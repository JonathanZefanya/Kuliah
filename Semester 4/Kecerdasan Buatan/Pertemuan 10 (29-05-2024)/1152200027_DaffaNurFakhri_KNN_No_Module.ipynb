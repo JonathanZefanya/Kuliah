{
  "nbformat": 4,
  "nbformat_minor": 0,
  "metadata": {
    "colab": {
      "provenance": []
    },
    "kernelspec": {
      "name": "python3",
      "display_name": "Python 3"
    },
    "language_info": {
      "name": "python"
    }
  },
  "cells": [
    {
      "cell_type": "code",
      "execution_count": 69,
      "metadata": {
        "id": "yQsvNvmwt9G1"
      },
      "outputs": [],
      "source": [
        "# NAMA : DAFFA NUR FAKHRI\n",
        "# NRP : 1152200027\n",
        "# Membuat machine learning python tidak menggunakan library"
      ]
    },
    {
      "cell_type": "code",
      "source": [
        "from google.colab import files # Untuk upload files ke google colab\n",
        "uploaded = files.upload()"
      ],
      "metadata": {
        "colab": {
          "base_uri": "https://localhost:8080/",
          "height": 73
        },
        "id": "D24VfN_auDTa",
        "outputId": "b1abf135-96da-4b06-c446-b633ef31c159"
      },
      "execution_count": 14,
      "outputs": [
        {
          "output_type": "display_data",
          "data": {
            "text/plain": [
              "<IPython.core.display.HTML object>"
            ],
            "text/html": [
              "\n",
              "     <input type=\"file\" id=\"files-9f795eb9-5701-4eb0-93a7-db464abcf8cf\" name=\"files[]\" multiple disabled\n",
              "        style=\"border:none\" />\n",
              "     <output id=\"result-9f795eb9-5701-4eb0-93a7-db464abcf8cf\">\n",
              "      Upload widget is only available when the cell has been executed in the\n",
              "      current browser session. Please rerun this cell to enable.\n",
              "      </output>\n",
              "      <script>// Copyright 2017 Google LLC\n",
              "//\n",
              "// Licensed under the Apache License, Version 2.0 (the \"License\");\n",
              "// you may not use this file except in compliance with the License.\n",
              "// You may obtain a copy of the License at\n",
              "//\n",
              "//      http://www.apache.org/licenses/LICENSE-2.0\n",
              "//\n",
              "// Unless required by applicable law or agreed to in writing, software\n",
              "// distributed under the License is distributed on an \"AS IS\" BASIS,\n",
              "// WITHOUT WARRANTIES OR CONDITIONS OF ANY KIND, either express or implied.\n",
              "// See the License for the specific language governing permissions and\n",
              "// limitations under the License.\n",
              "\n",
              "/**\n",
              " * @fileoverview Helpers for google.colab Python module.\n",
              " */\n",
              "(function(scope) {\n",
              "function span(text, styleAttributes = {}) {\n",
              "  const element = document.createElement('span');\n",
              "  element.textContent = text;\n",
              "  for (const key of Object.keys(styleAttributes)) {\n",
              "    element.style[key] = styleAttributes[key];\n",
              "  }\n",
              "  return element;\n",
              "}\n",
              "\n",
              "// Max number of bytes which will be uploaded at a time.\n",
              "const MAX_PAYLOAD_SIZE = 100 * 1024;\n",
              "\n",
              "function _uploadFiles(inputId, outputId) {\n",
              "  const steps = uploadFilesStep(inputId, outputId);\n",
              "  const outputElement = document.getElementById(outputId);\n",
              "  // Cache steps on the outputElement to make it available for the next call\n",
              "  // to uploadFilesContinue from Python.\n",
              "  outputElement.steps = steps;\n",
              "\n",
              "  return _uploadFilesContinue(outputId);\n",
              "}\n",
              "\n",
              "// This is roughly an async generator (not supported in the browser yet),\n",
              "// where there are multiple asynchronous steps and the Python side is going\n",
              "// to poll for completion of each step.\n",
              "// This uses a Promise to block the python side on completion of each step,\n",
              "// then passes the result of the previous step as the input to the next step.\n",
              "function _uploadFilesContinue(outputId) {\n",
              "  const outputElement = document.getElementById(outputId);\n",
              "  const steps = outputElement.steps;\n",
              "\n",
              "  const next = steps.next(outputElement.lastPromiseValue);\n",
              "  return Promise.resolve(next.value.promise).then((value) => {\n",
              "    // Cache the last promise value to make it available to the next\n",
              "    // step of the generator.\n",
              "    outputElement.lastPromiseValue = value;\n",
              "    return next.value.response;\n",
              "  });\n",
              "}\n",
              "\n",
              "/**\n",
              " * Generator function which is called between each async step of the upload\n",
              " * process.\n",
              " * @param {string} inputId Element ID of the input file picker element.\n",
              " * @param {string} outputId Element ID of the output display.\n",
              " * @return {!Iterable<!Object>} Iterable of next steps.\n",
              " */\n",
              "function* uploadFilesStep(inputId, outputId) {\n",
              "  const inputElement = document.getElementById(inputId);\n",
              "  inputElement.disabled = false;\n",
              "\n",
              "  const outputElement = document.getElementById(outputId);\n",
              "  outputElement.innerHTML = '';\n",
              "\n",
              "  const pickedPromise = new Promise((resolve) => {\n",
              "    inputElement.addEventListener('change', (e) => {\n",
              "      resolve(e.target.files);\n",
              "    });\n",
              "  });\n",
              "\n",
              "  const cancel = document.createElement('button');\n",
              "  inputElement.parentElement.appendChild(cancel);\n",
              "  cancel.textContent = 'Cancel upload';\n",
              "  const cancelPromise = new Promise((resolve) => {\n",
              "    cancel.onclick = () => {\n",
              "      resolve(null);\n",
              "    };\n",
              "  });\n",
              "\n",
              "  // Wait for the user to pick the files.\n",
              "  const files = yield {\n",
              "    promise: Promise.race([pickedPromise, cancelPromise]),\n",
              "    response: {\n",
              "      action: 'starting',\n",
              "    }\n",
              "  };\n",
              "\n",
              "  cancel.remove();\n",
              "\n",
              "  // Disable the input element since further picks are not allowed.\n",
              "  inputElement.disabled = true;\n",
              "\n",
              "  if (!files) {\n",
              "    return {\n",
              "      response: {\n",
              "        action: 'complete',\n",
              "      }\n",
              "    };\n",
              "  }\n",
              "\n",
              "  for (const file of files) {\n",
              "    const li = document.createElement('li');\n",
              "    li.append(span(file.name, {fontWeight: 'bold'}));\n",
              "    li.append(span(\n",
              "        `(${file.type || 'n/a'}) - ${file.size} bytes, ` +\n",
              "        `last modified: ${\n",
              "            file.lastModifiedDate ? file.lastModifiedDate.toLocaleDateString() :\n",
              "                                    'n/a'} - `));\n",
              "    const percent = span('0% done');\n",
              "    li.appendChild(percent);\n",
              "\n",
              "    outputElement.appendChild(li);\n",
              "\n",
              "    const fileDataPromise = new Promise((resolve) => {\n",
              "      const reader = new FileReader();\n",
              "      reader.onload = (e) => {\n",
              "        resolve(e.target.result);\n",
              "      };\n",
              "      reader.readAsArrayBuffer(file);\n",
              "    });\n",
              "    // Wait for the data to be ready.\n",
              "    let fileData = yield {\n",
              "      promise: fileDataPromise,\n",
              "      response: {\n",
              "        action: 'continue',\n",
              "      }\n",
              "    };\n",
              "\n",
              "    // Use a chunked sending to avoid message size limits. See b/62115660.\n",
              "    let position = 0;\n",
              "    do {\n",
              "      const length = Math.min(fileData.byteLength - position, MAX_PAYLOAD_SIZE);\n",
              "      const chunk = new Uint8Array(fileData, position, length);\n",
              "      position += length;\n",
              "\n",
              "      const base64 = btoa(String.fromCharCode.apply(null, chunk));\n",
              "      yield {\n",
              "        response: {\n",
              "          action: 'append',\n",
              "          file: file.name,\n",
              "          data: base64,\n",
              "        },\n",
              "      };\n",
              "\n",
              "      let percentDone = fileData.byteLength === 0 ?\n",
              "          100 :\n",
              "          Math.round((position / fileData.byteLength) * 100);\n",
              "      percent.textContent = `${percentDone}% done`;\n",
              "\n",
              "    } while (position < fileData.byteLength);\n",
              "  }\n",
              "\n",
              "  // All done.\n",
              "  yield {\n",
              "    response: {\n",
              "      action: 'complete',\n",
              "    }\n",
              "  };\n",
              "}\n",
              "\n",
              "scope.google = scope.google || {};\n",
              "scope.google.colab = scope.google.colab || {};\n",
              "scope.google.colab._files = {\n",
              "  _uploadFiles,\n",
              "  _uploadFilesContinue,\n",
              "};\n",
              "})(self);\n",
              "</script> "
            ]
          },
          "metadata": {}
        },
        {
          "output_type": "stream",
          "name": "stdout",
          "text": [
            "Saving csv_KNN_Liver_CSU_1.csv to csv_KNN_Liver_CSU_1 (1).csv\n"
          ]
        }
      ]
    },
    {
      "cell_type": "code",
      "source": [
        "filename = list(uploaded.keys())[0] # membaca file csv yang di upload ke google colab\n"
      ],
      "metadata": {
        "id": "qfx3LH5EwclA"
      },
      "execution_count": 70,
      "outputs": []
    },
    {
      "cell_type": "code",
      "source": [
        "with open(filename, 'r') as file: # membuka file tersebut sebagai file\n",
        "    csv_content = file.read()   # fie yang dibuka kemudian dibaca oleh google colab"
      ],
      "metadata": {
        "id": "IJrBVFflxRHA"
      },
      "execution_count": 71,
      "outputs": []
    },
    {
      "cell_type": "code",
      "source": [
        "print(csv_content) # file yang telah di dibuka isinya kemudian dicetak isinya"
      ],
      "metadata": {
        "colab": {
          "base_uri": "https://localhost:8080/"
        },
        "id": "JGi8J2VCx4qF",
        "outputId": "792ff338-e11c-463f-d9ba-cbd9a56eec55"
      },
      "execution_count": 72,
      "outputs": [
        {
          "output_type": "stream",
          "name": "stdout",
          "text": [
            "ALB,ALP,ALT,AST,BIL,PROT,GGT,Diagnosa\n",
            "38.5,52.5,7.7,22.1,7.5,69,12.1,Blood Donor\n",
            "38.5,70.3,18,24.7,3.9,76.5,15.6,Blood Donor\n",
            "46.9,74.7,36.2,52.6,6.1,79.3,33.2,Blood Donor\n",
            "43.2,52,30.6,22.6,18.9,75.7,33.8,Blood Donor\n",
            "47,19.1,38.9,164.2,17,70.1,90.4,Hepatitis\n",
            "42,38.2,63.3,187.7,14,70.5,40.2,Hepatitis\n",
            "45,27.5,10.5,37.8,10,74.5,35.9,Hepatitis\n",
            "45,34.6,44.3,96.2,16,82.1,48.1,Hepatitis\n",
            "41,34.4,12.1,60.9,6,71.1,33.1,Hepatitis\n",
            "41,43.1,2.4,83.5,6,66.5,130,Fibrosis\n",
            "39,43.1,23.8,114.7,11,81.3,127.3,Fibrosis\n",
            "45,26.9,23.1,125,17,73,72.2,Fibrosis\n",
            "49,45.2,19.3,69.1,30,72.3,28.4,Fibrosis\n",
            "34,137.8,4.8,35.6,9,57.5,133.4,Cirrhosis\n",
            "31,85.3,4.8,60.2,200,71.8,151,Cirrhosis\n",
            "36,69.6,14.9,263.1,40,68.6,61,Cirrhosis\n",
            "29,11.3,7.1,101.9,31,70,65.6,Cirrhosis\n"
          ]
        }
      ]
    },
    {
      "cell_type": "code",
      "source": [
        "rows = csv_content.strip().split('\\n') # Memproses konten CSV menjadi daftar baris"
      ],
      "metadata": {
        "id": "fNrHTmBQztht"
      },
      "execution_count": 73,
      "outputs": []
    },
    {
      "cell_type": "code",
      "source": [
        "data = []       # inisialisasi data dan target\n",
        "target = []"
      ],
      "metadata": {
        "id": "CbRaMDv70iCG"
      },
      "execution_count": 28,
      "outputs": []
    },
    {
      "cell_type": "code",
      "source": [
        "for row in rows:\n",
        "    columns = row.split(',')\n",
        "    data.append(columns[:-1])  # Semua kolom kecuali yang terakhir sebagai target\n",
        "    target.append(columns[-1]) # Kolom terakhir sebagai target"
      ],
      "metadata": {
        "id": "xLJWJ_5A0r6g"
      },
      "execution_count": 31,
      "outputs": []
    },
    {
      "cell_type": "code",
      "source": [
        "# Menampilkan fitur dan target\n",
        "print(\"Data:\")\n",
        "for item in data:\n",
        "    print(item)"
      ],
      "metadata": {
        "colab": {
          "base_uri": "https://localhost:8080/"
        },
        "id": "6pVoZCxg0tiM",
        "outputId": "66124495-abfe-41e5-d15a-e5763c94be0e"
      },
      "execution_count": 25,
      "outputs": [
        {
          "output_type": "stream",
          "name": "stdout",
          "text": [
            "Data:\n",
            "['ALB', 'ALP', 'ALT', 'AST', 'BIL', 'PROT', 'GGT']\n",
            "['38.5', '52.5', '7.7', '22.1', '7.5', '69', '12.1']\n",
            "['38.5', '70.3', '18', '24.7', '3.9', '76.5', '15.6']\n",
            "['46.9', '74.7', '36.2', '52.6', '6.1', '79.3', '33.2']\n",
            "['43.2', '52', '30.6', '22.6', '18.9', '75.7', '33.8']\n",
            "['47', '19.1', '38.9', '164.2', '17', '70.1', '90.4']\n",
            "['42', '38.2', '63.3', '187.7', '14', '70.5', '40.2']\n",
            "['45', '27.5', '10.5', '37.8', '10', '74.5', '35.9']\n",
            "['45', '34.6', '44.3', '96.2', '16', '82.1', '48.1']\n",
            "['41', '34.4', '12.1', '60.9', '6', '71.1', '33.1']\n",
            "['41', '43.1', '2.4', '83.5', '6', '66.5', '130']\n",
            "['39', '43.1', '23.8', '114.7', '11', '81.3', '127.3']\n",
            "['45', '26.9', '23.1', '125', '17', '73', '72.2']\n",
            "['49', '45.2', '19.3', '69.1', '30', '72.3', '28.4']\n",
            "['34', '137.8', '4.8', '35.6', '9', '57.5', '133.4']\n",
            "['31', '85.3', '4.8', '60.2', '200', '71.8', '151']\n",
            "['36', '69.6', '14.9', '263.1', '40', '68.6', '61']\n",
            "['29', '11.3', '7.1', '101.9', '31', '70', '65.6']\n"
          ]
        }
      ]
    },
    {
      "cell_type": "code",
      "source": [
        "print(\"Target:\")\n",
        "for item in target:\n",
        "    print(item)"
      ],
      "metadata": {
        "colab": {
          "base_uri": "https://localhost:8080/"
        },
        "id": "Pra0Bw310tx0",
        "outputId": "51189d00-dd7e-4c18-9f38-9284707085cf"
      },
      "execution_count": 34,
      "outputs": [
        {
          "output_type": "stream",
          "name": "stdout",
          "text": [
            "Target:\n",
            "Diagnosa\n",
            "Blood Donor\n",
            "Blood Donor\n",
            "Blood Donor\n",
            "Blood Donor\n",
            "Hepatitis\n",
            "Hepatitis\n",
            "Hepatitis\n",
            "Hepatitis\n",
            "Hepatitis\n",
            "Fibrosis\n",
            "Fibrosis\n",
            "Fibrosis\n",
            "Fibrosis\n",
            "Cirrhosis\n",
            "Cirrhosis\n",
            "Cirrhosis\n",
            "Cirrhosis\n"
          ]
        }
      ]
    },
    {
      "cell_type": "code",
      "source": [
        "import random\n",
        "\n",
        "# Fungsi untuk membagi data menjadi training dan testing\n",
        "def train_test_split(data, target, test_size=0.1, random_seed=0):\n",
        "  # Menggabungkan data dan target\n",
        "    combined = list(zip(data, target))\n",
        "\n",
        "    # Mengacak data dengan seed tertentu\n",
        "    random.seed(random_seed)\n",
        "    random.shuffle(combined)\n",
        "\n",
        "    # Menentukan jumlah data testing\n",
        "    test_count = int(len(data) * test_size)\n",
        "\n",
        "    # Memisahkan data menjadi training dan testing\n",
        "    test_data = combined[:test_count]\n",
        "    train_data = combined[test_count:]\n",
        "\n",
        "    # Memisahkan kembali data dan target\n",
        "    train_data, train_target = zip(*train_data)\n",
        "    test_data, test_target = zip(*test_data)\n",
        "\n",
        "    return list(train_data), list(train_target), list(test_data), list(test_target)\n"
      ],
      "metadata": {
        "id": "1K8AzHEG6pOB"
      },
      "execution_count": 89,
      "outputs": []
    },
    {
      "cell_type": "code",
      "source": [
        "# Membagi data menjadi training dan testing\n",
        "train_data, train_target, test_data, test_target = train_test_split(data, target, test_size=0.2)\n"
      ],
      "metadata": {
        "id": "tVPiGG4m4ENm"
      },
      "execution_count": 90,
      "outputs": []
    },
    {
      "cell_type": "code",
      "source": [
        "print(\"Testing Data:\")\n",
        "for item in test_data:\n",
        "    print(item)"
      ],
      "metadata": {
        "colab": {
          "base_uri": "https://localhost:8080/"
        },
        "id": "NOy3-mpb7hJS",
        "outputId": "f137bad1-d7ce-491f-d962-2684b34b3b87"
      },
      "execution_count": 91,
      "outputs": [
        {
          "output_type": "stream",
          "name": "stdout",
          "text": [
            "Testing Data:\n",
            "['39', '43.1', '23.8', '114.7', '11', '81.3', '127.3']\n",
            "['41', '34.4', '12.1', '60.9', '6', '71.1', '33.1']\n",
            "['ALB', 'ALP', 'ALT', 'AST', 'BIL', 'PROT', 'GGT']\n"
          ]
        }
      ]
    },
    {
      "cell_type": "code",
      "source": [
        "print(\"Testing Target:\")\n",
        "for item in test_target:\n",
        "    print(item)"
      ],
      "metadata": {
        "colab": {
          "base_uri": "https://localhost:8080/"
        },
        "id": "zcH6fQWE7pDD",
        "outputId": "ccf88f87-d54a-4493-c276-b099fe146163"
      },
      "execution_count": 92,
      "outputs": [
        {
          "output_type": "stream",
          "name": "stdout",
          "text": [
            "Testing Target:\n",
            "Fibrosis\n",
            "Hepatitis\n",
            "Diagnosa\n"
          ]
        }
      ]
    },
    {
      "cell_type": "code",
      "source": [
        "# Asumsi semua elemen dalam data adalah angka, mengkonversi elemen ke tipe float\n",
        "train_data_float = [[float(value) for value in row] for row in train_data]\n",
        "test_data_float = [[float(value) for value in row] for row in test_data]"
      ],
      "metadata": {
        "colab": {
          "base_uri": "https://localhost:8080/",
          "height": 287
        },
        "id": "lKSi9yKpOTUj",
        "outputId": "ffcb2c43-055e-492b-c55b-d6bb8e91ece2"
      },
      "execution_count": 75,
      "outputs": [
        {
          "output_type": "error",
          "ename": "ValueError",
          "evalue": "could not convert string to float: 'ALB'",
          "traceback": [
            "\u001b[0;31m---------------------------------------------------------------------------\u001b[0m",
            "\u001b[0;31mValueError\u001b[0m                                Traceback (most recent call last)",
            "\u001b[0;32m<ipython-input-75-8ea8a85d3a60>\u001b[0m in \u001b[0;36m<cell line: 3>\u001b[0;34m()\u001b[0m\n\u001b[1;32m      1\u001b[0m \u001b[0;31m# Asumsi semua elemen dalam data adalah angka, mengkonversi elemen ke tipe float\u001b[0m\u001b[0;34m\u001b[0m\u001b[0;34m\u001b[0m\u001b[0m\n\u001b[1;32m      2\u001b[0m \u001b[0mtrain_data_float\u001b[0m \u001b[0;34m=\u001b[0m \u001b[0;34m[\u001b[0m\u001b[0;34m[\u001b[0m\u001b[0mfloat\u001b[0m\u001b[0;34m(\u001b[0m\u001b[0mvalue\u001b[0m\u001b[0;34m)\u001b[0m \u001b[0;32mfor\u001b[0m \u001b[0mvalue\u001b[0m \u001b[0;32min\u001b[0m \u001b[0mrow\u001b[0m\u001b[0;34m]\u001b[0m \u001b[0;32mfor\u001b[0m \u001b[0mrow\u001b[0m \u001b[0;32min\u001b[0m \u001b[0mtrain_data\u001b[0m\u001b[0;34m]\u001b[0m\u001b[0;34m\u001b[0m\u001b[0;34m\u001b[0m\u001b[0m\n\u001b[0;32m----> 3\u001b[0;31m \u001b[0mtest_data_float\u001b[0m \u001b[0;34m=\u001b[0m \u001b[0;34m[\u001b[0m\u001b[0;34m[\u001b[0m\u001b[0mfloat\u001b[0m\u001b[0;34m(\u001b[0m\u001b[0mvalue\u001b[0m\u001b[0;34m)\u001b[0m \u001b[0;32mfor\u001b[0m \u001b[0mvalue\u001b[0m \u001b[0;32min\u001b[0m \u001b[0mrow\u001b[0m\u001b[0;34m]\u001b[0m \u001b[0;32mfor\u001b[0m \u001b[0mrow\u001b[0m \u001b[0;32min\u001b[0m \u001b[0mtest_data\u001b[0m\u001b[0;34m]\u001b[0m\u001b[0;34m\u001b[0m\u001b[0;34m\u001b[0m\u001b[0m\n\u001b[0m",
            "\u001b[0;32m<ipython-input-75-8ea8a85d3a60>\u001b[0m in \u001b[0;36m<listcomp>\u001b[0;34m(.0)\u001b[0m\n\u001b[1;32m      1\u001b[0m \u001b[0;31m# Asumsi semua elemen dalam data adalah angka, mengkonversi elemen ke tipe float\u001b[0m\u001b[0;34m\u001b[0m\u001b[0;34m\u001b[0m\u001b[0m\n\u001b[1;32m      2\u001b[0m \u001b[0mtrain_data_float\u001b[0m \u001b[0;34m=\u001b[0m \u001b[0;34m[\u001b[0m\u001b[0;34m[\u001b[0m\u001b[0mfloat\u001b[0m\u001b[0;34m(\u001b[0m\u001b[0mvalue\u001b[0m\u001b[0;34m)\u001b[0m \u001b[0;32mfor\u001b[0m \u001b[0mvalue\u001b[0m \u001b[0;32min\u001b[0m \u001b[0mrow\u001b[0m\u001b[0;34m]\u001b[0m \u001b[0;32mfor\u001b[0m \u001b[0mrow\u001b[0m \u001b[0;32min\u001b[0m \u001b[0mtrain_data\u001b[0m\u001b[0;34m]\u001b[0m\u001b[0;34m\u001b[0m\u001b[0;34m\u001b[0m\u001b[0m\n\u001b[0;32m----> 3\u001b[0;31m \u001b[0mtest_data_float\u001b[0m \u001b[0;34m=\u001b[0m \u001b[0;34m[\u001b[0m\u001b[0;34m[\u001b[0m\u001b[0mfloat\u001b[0m\u001b[0;34m(\u001b[0m\u001b[0mvalue\u001b[0m\u001b[0;34m)\u001b[0m \u001b[0;32mfor\u001b[0m \u001b[0mvalue\u001b[0m \u001b[0;32min\u001b[0m \u001b[0mrow\u001b[0m\u001b[0;34m]\u001b[0m \u001b[0;32mfor\u001b[0m \u001b[0mrow\u001b[0m \u001b[0;32min\u001b[0m \u001b[0mtest_data\u001b[0m\u001b[0;34m]\u001b[0m\u001b[0;34m\u001b[0m\u001b[0;34m\u001b[0m\u001b[0m\n\u001b[0m",
            "\u001b[0;32m<ipython-input-75-8ea8a85d3a60>\u001b[0m in \u001b[0;36m<listcomp>\u001b[0;34m(.0)\u001b[0m\n\u001b[1;32m      1\u001b[0m \u001b[0;31m# Asumsi semua elemen dalam data adalah angka, mengkonversi elemen ke tipe float\u001b[0m\u001b[0;34m\u001b[0m\u001b[0;34m\u001b[0m\u001b[0m\n\u001b[1;32m      2\u001b[0m \u001b[0mtrain_data_float\u001b[0m \u001b[0;34m=\u001b[0m \u001b[0;34m[\u001b[0m\u001b[0;34m[\u001b[0m\u001b[0mfloat\u001b[0m\u001b[0;34m(\u001b[0m\u001b[0mvalue\u001b[0m\u001b[0;34m)\u001b[0m \u001b[0;32mfor\u001b[0m \u001b[0mvalue\u001b[0m \u001b[0;32min\u001b[0m \u001b[0mrow\u001b[0m\u001b[0;34m]\u001b[0m \u001b[0;32mfor\u001b[0m \u001b[0mrow\u001b[0m \u001b[0;32min\u001b[0m \u001b[0mtrain_data\u001b[0m\u001b[0;34m]\u001b[0m\u001b[0;34m\u001b[0m\u001b[0;34m\u001b[0m\u001b[0m\n\u001b[0;32m----> 3\u001b[0;31m \u001b[0mtest_data_float\u001b[0m \u001b[0;34m=\u001b[0m \u001b[0;34m[\u001b[0m\u001b[0;34m[\u001b[0m\u001b[0mfloat\u001b[0m\u001b[0;34m(\u001b[0m\u001b[0mvalue\u001b[0m\u001b[0;34m)\u001b[0m \u001b[0;32mfor\u001b[0m \u001b[0mvalue\u001b[0m \u001b[0;32min\u001b[0m \u001b[0mrow\u001b[0m\u001b[0;34m]\u001b[0m \u001b[0;32mfor\u001b[0m \u001b[0mrow\u001b[0m \u001b[0;32min\u001b[0m \u001b[0mtest_data\u001b[0m\u001b[0;34m]\u001b[0m\u001b[0;34m\u001b[0m\u001b[0;34m\u001b[0m\u001b[0m\n\u001b[0m",
            "\u001b[0;31mValueError\u001b[0m: could not convert string to float: 'ALB'"
          ]
        }
      ]
    }
  ]
}