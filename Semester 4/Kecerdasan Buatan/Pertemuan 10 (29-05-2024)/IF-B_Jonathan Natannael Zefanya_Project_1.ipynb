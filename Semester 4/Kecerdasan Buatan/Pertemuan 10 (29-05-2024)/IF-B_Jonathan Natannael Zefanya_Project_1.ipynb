{
  "nbformat": 4,
  "nbformat_minor": 0,
  "metadata": {
    "colab": {
      "provenance": []
    },
    "kernelspec": {
      "name": "python3",
      "display_name": "Python 3"
    },
    "language_info": {
      "name": "python"
    }
  },
  "cells": [
    {
      "cell_type": "markdown",
      "source": [
        "**Nama: Jonathan Natannael Zefanya**\n",
        "\n",
        "NIM: 1152200024"
      ],
      "metadata": {
        "id": "e_HONCJjQRjV"
      }
    },
    {
      "cell_type": "code",
      "source": [
        "from google.colab import files\n",
        "import pandas as pd\n",
        "import random\n",
        "\n",
        "# Upload file CSV\n",
        "uploaded = files.upload()"
      ],
      "metadata": {
        "colab": {
          "base_uri": "https://localhost:8080/",
          "height": 73
        },
        "id": "9lWgcSl5JyVA",
        "outputId": "4763d105-a068-4b97-e405-b2d232c605ed"
      },
      "execution_count": 82,
      "outputs": [
        {
          "output_type": "display_data",
          "data": {
            "text/plain": [
              "<IPython.core.display.HTML object>"
            ],
            "text/html": [
              "\n",
              "     <input type=\"file\" id=\"files-d0b397ef-059c-4797-8f72-b0777fb61995\" name=\"files[]\" multiple disabled\n",
              "        style=\"border:none\" />\n",
              "     <output id=\"result-d0b397ef-059c-4797-8f72-b0777fb61995\">\n",
              "      Upload widget is only available when the cell has been executed in the\n",
              "      current browser session. Please rerun this cell to enable.\n",
              "      </output>\n",
              "      <script>// Copyright 2017 Google LLC\n",
              "//\n",
              "// Licensed under the Apache License, Version 2.0 (the \"License\");\n",
              "// you may not use this file except in compliance with the License.\n",
              "// You may obtain a copy of the License at\n",
              "//\n",
              "//      http://www.apache.org/licenses/LICENSE-2.0\n",
              "//\n",
              "// Unless required by applicable law or agreed to in writing, software\n",
              "// distributed under the License is distributed on an \"AS IS\" BASIS,\n",
              "// WITHOUT WARRANTIES OR CONDITIONS OF ANY KIND, either express or implied.\n",
              "// See the License for the specific language governing permissions and\n",
              "// limitations under the License.\n",
              "\n",
              "/**\n",
              " * @fileoverview Helpers for google.colab Python module.\n",
              " */\n",
              "(function(scope) {\n",
              "function span(text, styleAttributes = {}) {\n",
              "  const element = document.createElement('span');\n",
              "  element.textContent = text;\n",
              "  for (const key of Object.keys(styleAttributes)) {\n",
              "    element.style[key] = styleAttributes[key];\n",
              "  }\n",
              "  return element;\n",
              "}\n",
              "\n",
              "// Max number of bytes which will be uploaded at a time.\n",
              "const MAX_PAYLOAD_SIZE = 100 * 1024;\n",
              "\n",
              "function _uploadFiles(inputId, outputId) {\n",
              "  const steps = uploadFilesStep(inputId, outputId);\n",
              "  const outputElement = document.getElementById(outputId);\n",
              "  // Cache steps on the outputElement to make it available for the next call\n",
              "  // to uploadFilesContinue from Python.\n",
              "  outputElement.steps = steps;\n",
              "\n",
              "  return _uploadFilesContinue(outputId);\n",
              "}\n",
              "\n",
              "// This is roughly an async generator (not supported in the browser yet),\n",
              "// where there are multiple asynchronous steps and the Python side is going\n",
              "// to poll for completion of each step.\n",
              "// This uses a Promise to block the python side on completion of each step,\n",
              "// then passes the result of the previous step as the input to the next step.\n",
              "function _uploadFilesContinue(outputId) {\n",
              "  const outputElement = document.getElementById(outputId);\n",
              "  const steps = outputElement.steps;\n",
              "\n",
              "  const next = steps.next(outputElement.lastPromiseValue);\n",
              "  return Promise.resolve(next.value.promise).then((value) => {\n",
              "    // Cache the last promise value to make it available to the next\n",
              "    // step of the generator.\n",
              "    outputElement.lastPromiseValue = value;\n",
              "    return next.value.response;\n",
              "  });\n",
              "}\n",
              "\n",
              "/**\n",
              " * Generator function which is called between each async step of the upload\n",
              " * process.\n",
              " * @param {string} inputId Element ID of the input file picker element.\n",
              " * @param {string} outputId Element ID of the output display.\n",
              " * @return {!Iterable<!Object>} Iterable of next steps.\n",
              " */\n",
              "function* uploadFilesStep(inputId, outputId) {\n",
              "  const inputElement = document.getElementById(inputId);\n",
              "  inputElement.disabled = false;\n",
              "\n",
              "  const outputElement = document.getElementById(outputId);\n",
              "  outputElement.innerHTML = '';\n",
              "\n",
              "  const pickedPromise = new Promise((resolve) => {\n",
              "    inputElement.addEventListener('change', (e) => {\n",
              "      resolve(e.target.files);\n",
              "    });\n",
              "  });\n",
              "\n",
              "  const cancel = document.createElement('button');\n",
              "  inputElement.parentElement.appendChild(cancel);\n",
              "  cancel.textContent = 'Cancel upload';\n",
              "  const cancelPromise = new Promise((resolve) => {\n",
              "    cancel.onclick = () => {\n",
              "      resolve(null);\n",
              "    };\n",
              "  });\n",
              "\n",
              "  // Wait for the user to pick the files.\n",
              "  const files = yield {\n",
              "    promise: Promise.race([pickedPromise, cancelPromise]),\n",
              "    response: {\n",
              "      action: 'starting',\n",
              "    }\n",
              "  };\n",
              "\n",
              "  cancel.remove();\n",
              "\n",
              "  // Disable the input element since further picks are not allowed.\n",
              "  inputElement.disabled = true;\n",
              "\n",
              "  if (!files) {\n",
              "    return {\n",
              "      response: {\n",
              "        action: 'complete',\n",
              "      }\n",
              "    };\n",
              "  }\n",
              "\n",
              "  for (const file of files) {\n",
              "    const li = document.createElement('li');\n",
              "    li.append(span(file.name, {fontWeight: 'bold'}));\n",
              "    li.append(span(\n",
              "        `(${file.type || 'n/a'}) - ${file.size} bytes, ` +\n",
              "        `last modified: ${\n",
              "            file.lastModifiedDate ? file.lastModifiedDate.toLocaleDateString() :\n",
              "                                    'n/a'} - `));\n",
              "    const percent = span('0% done');\n",
              "    li.appendChild(percent);\n",
              "\n",
              "    outputElement.appendChild(li);\n",
              "\n",
              "    const fileDataPromise = new Promise((resolve) => {\n",
              "      const reader = new FileReader();\n",
              "      reader.onload = (e) => {\n",
              "        resolve(e.target.result);\n",
              "      };\n",
              "      reader.readAsArrayBuffer(file);\n",
              "    });\n",
              "    // Wait for the data to be ready.\n",
              "    let fileData = yield {\n",
              "      promise: fileDataPromise,\n",
              "      response: {\n",
              "        action: 'continue',\n",
              "      }\n",
              "    };\n",
              "\n",
              "    // Use a chunked sending to avoid message size limits. See b/62115660.\n",
              "    let position = 0;\n",
              "    do {\n",
              "      const length = Math.min(fileData.byteLength - position, MAX_PAYLOAD_SIZE);\n",
              "      const chunk = new Uint8Array(fileData, position, length);\n",
              "      position += length;\n",
              "\n",
              "      const base64 = btoa(String.fromCharCode.apply(null, chunk));\n",
              "      yield {\n",
              "        response: {\n",
              "          action: 'append',\n",
              "          file: file.name,\n",
              "          data: base64,\n",
              "        },\n",
              "      };\n",
              "\n",
              "      let percentDone = fileData.byteLength === 0 ?\n",
              "          100 :\n",
              "          Math.round((position / fileData.byteLength) * 100);\n",
              "      percent.textContent = `${percentDone}% done`;\n",
              "\n",
              "    } while (position < fileData.byteLength);\n",
              "  }\n",
              "\n",
              "  // All done.\n",
              "  yield {\n",
              "    response: {\n",
              "      action: 'complete',\n",
              "    }\n",
              "  };\n",
              "}\n",
              "\n",
              "scope.google = scope.google || {};\n",
              "scope.google.colab = scope.google.colab || {};\n",
              "scope.google.colab._files = {\n",
              "  _uploadFiles,\n",
              "  _uploadFilesContinue,\n",
              "};\n",
              "})(self);\n",
              "</script> "
            ]
          },
          "metadata": {}
        },
        {
          "output_type": "stream",
          "name": "stdout",
          "text": [
            "Saving csv_KNN_Liver_CSU_1.csv to csv_KNN_Liver_CSU_1 (3).csv\n"
          ]
        }
      ]
    },
    {
      "cell_type": "code",
      "source": [
        "# Membaca data dari file CSV\n",
        "datas = pd.read_csv('csv_KNN_Liver_CSU_1.csv')\n",
        "datas.head()"
      ],
      "metadata": {
        "colab": {
          "base_uri": "https://localhost:8080/",
          "height": 206
        },
        "id": "9TxHp-9QJ212",
        "outputId": "a957503b-2a86-4859-a7e5-12ac111377b9"
      },
      "execution_count": 83,
      "outputs": [
        {
          "output_type": "execute_result",
          "data": {
            "text/plain": [
              "    ALB   ALP   ALT    AST   BIL  PROT   GGT     Diagnosa\n",
              "0  38.5  52.5   7.7   22.1   7.5  69.0  12.1  Blood Donor\n",
              "1  38.5  70.3  18.0   24.7   3.9  76.5  15.6  Blood Donor\n",
              "2  46.9  74.7  36.2   52.6   6.1  79.3  33.2  Blood Donor\n",
              "3  43.2  52.0  30.6   22.6  18.9  75.7  33.8  Blood Donor\n",
              "4  47.0  19.1  38.9  164.2  17.0  70.1  90.4    Hepatitis"
            ],
            "text/html": [
              "\n",
              "  <div id=\"df-acf4a1e1-6945-4202-bcd1-05e5a5564b08\" class=\"colab-df-container\">\n",
              "    <div>\n",
              "<style scoped>\n",
              "    .dataframe tbody tr th:only-of-type {\n",
              "        vertical-align: middle;\n",
              "    }\n",
              "\n",
              "    .dataframe tbody tr th {\n",
              "        vertical-align: top;\n",
              "    }\n",
              "\n",
              "    .dataframe thead th {\n",
              "        text-align: right;\n",
              "    }\n",
              "</style>\n",
              "<table border=\"1\" class=\"dataframe\">\n",
              "  <thead>\n",
              "    <tr style=\"text-align: right;\">\n",
              "      <th></th>\n",
              "      <th>ALB</th>\n",
              "      <th>ALP</th>\n",
              "      <th>ALT</th>\n",
              "      <th>AST</th>\n",
              "      <th>BIL</th>\n",
              "      <th>PROT</th>\n",
              "      <th>GGT</th>\n",
              "      <th>Diagnosa</th>\n",
              "    </tr>\n",
              "  </thead>\n",
              "  <tbody>\n",
              "    <tr>\n",
              "      <th>0</th>\n",
              "      <td>38.5</td>\n",
              "      <td>52.5</td>\n",
              "      <td>7.7</td>\n",
              "      <td>22.1</td>\n",
              "      <td>7.5</td>\n",
              "      <td>69.0</td>\n",
              "      <td>12.1</td>\n",
              "      <td>Blood Donor</td>\n",
              "    </tr>\n",
              "    <tr>\n",
              "      <th>1</th>\n",
              "      <td>38.5</td>\n",
              "      <td>70.3</td>\n",
              "      <td>18.0</td>\n",
              "      <td>24.7</td>\n",
              "      <td>3.9</td>\n",
              "      <td>76.5</td>\n",
              "      <td>15.6</td>\n",
              "      <td>Blood Donor</td>\n",
              "    </tr>\n",
              "    <tr>\n",
              "      <th>2</th>\n",
              "      <td>46.9</td>\n",
              "      <td>74.7</td>\n",
              "      <td>36.2</td>\n",
              "      <td>52.6</td>\n",
              "      <td>6.1</td>\n",
              "      <td>79.3</td>\n",
              "      <td>33.2</td>\n",
              "      <td>Blood Donor</td>\n",
              "    </tr>\n",
              "    <tr>\n",
              "      <th>3</th>\n",
              "      <td>43.2</td>\n",
              "      <td>52.0</td>\n",
              "      <td>30.6</td>\n",
              "      <td>22.6</td>\n",
              "      <td>18.9</td>\n",
              "      <td>75.7</td>\n",
              "      <td>33.8</td>\n",
              "      <td>Blood Donor</td>\n",
              "    </tr>\n",
              "    <tr>\n",
              "      <th>4</th>\n",
              "      <td>47.0</td>\n",
              "      <td>19.1</td>\n",
              "      <td>38.9</td>\n",
              "      <td>164.2</td>\n",
              "      <td>17.0</td>\n",
              "      <td>70.1</td>\n",
              "      <td>90.4</td>\n",
              "      <td>Hepatitis</td>\n",
              "    </tr>\n",
              "  </tbody>\n",
              "</table>\n",
              "</div>\n",
              "    <div class=\"colab-df-buttons\">\n",
              "\n",
              "  <div class=\"colab-df-container\">\n",
              "    <button class=\"colab-df-convert\" onclick=\"convertToInteractive('df-acf4a1e1-6945-4202-bcd1-05e5a5564b08')\"\n",
              "            title=\"Convert this dataframe to an interactive table.\"\n",
              "            style=\"display:none;\">\n",
              "\n",
              "  <svg xmlns=\"http://www.w3.org/2000/svg\" height=\"24px\" viewBox=\"0 -960 960 960\">\n",
              "    <path d=\"M120-120v-720h720v720H120Zm60-500h600v-160H180v160Zm220 220h160v-160H400v160Zm0 220h160v-160H400v160ZM180-400h160v-160H180v160Zm440 0h160v-160H620v160ZM180-180h160v-160H180v160Zm440 0h160v-160H620v160Z\"/>\n",
              "  </svg>\n",
              "    </button>\n",
              "\n",
              "  <style>\n",
              "    .colab-df-container {\n",
              "      display:flex;\n",
              "      gap: 12px;\n",
              "    }\n",
              "\n",
              "    .colab-df-convert {\n",
              "      background-color: #E8F0FE;\n",
              "      border: none;\n",
              "      border-radius: 50%;\n",
              "      cursor: pointer;\n",
              "      display: none;\n",
              "      fill: #1967D2;\n",
              "      height: 32px;\n",
              "      padding: 0 0 0 0;\n",
              "      width: 32px;\n",
              "    }\n",
              "\n",
              "    .colab-df-convert:hover {\n",
              "      background-color: #E2EBFA;\n",
              "      box-shadow: 0px 1px 2px rgba(60, 64, 67, 0.3), 0px 1px 3px 1px rgba(60, 64, 67, 0.15);\n",
              "      fill: #174EA6;\n",
              "    }\n",
              "\n",
              "    .colab-df-buttons div {\n",
              "      margin-bottom: 4px;\n",
              "    }\n",
              "\n",
              "    [theme=dark] .colab-df-convert {\n",
              "      background-color: #3B4455;\n",
              "      fill: #D2E3FC;\n",
              "    }\n",
              "\n",
              "    [theme=dark] .colab-df-convert:hover {\n",
              "      background-color: #434B5C;\n",
              "      box-shadow: 0px 1px 3px 1px rgba(0, 0, 0, 0.15);\n",
              "      filter: drop-shadow(0px 1px 2px rgba(0, 0, 0, 0.3));\n",
              "      fill: #FFFFFF;\n",
              "    }\n",
              "  </style>\n",
              "\n",
              "    <script>\n",
              "      const buttonEl =\n",
              "        document.querySelector('#df-acf4a1e1-6945-4202-bcd1-05e5a5564b08 button.colab-df-convert');\n",
              "      buttonEl.style.display =\n",
              "        google.colab.kernel.accessAllowed ? 'block' : 'none';\n",
              "\n",
              "      async function convertToInteractive(key) {\n",
              "        const element = document.querySelector('#df-acf4a1e1-6945-4202-bcd1-05e5a5564b08');\n",
              "        const dataTable =\n",
              "          await google.colab.kernel.invokeFunction('convertToInteractive',\n",
              "                                                    [key], {});\n",
              "        if (!dataTable) return;\n",
              "\n",
              "        const docLinkHtml = 'Like what you see? Visit the ' +\n",
              "          '<a target=\"_blank\" href=https://colab.research.google.com/notebooks/data_table.ipynb>data table notebook</a>'\n",
              "          + ' to learn more about interactive tables.';\n",
              "        element.innerHTML = '';\n",
              "        dataTable['output_type'] = 'display_data';\n",
              "        await google.colab.output.renderOutput(dataTable, element);\n",
              "        const docLink = document.createElement('div');\n",
              "        docLink.innerHTML = docLinkHtml;\n",
              "        element.appendChild(docLink);\n",
              "      }\n",
              "    </script>\n",
              "  </div>\n",
              "\n",
              "\n",
              "<div id=\"df-06434522-3156-45b0-ae47-5374edf0e03c\">\n",
              "  <button class=\"colab-df-quickchart\" onclick=\"quickchart('df-06434522-3156-45b0-ae47-5374edf0e03c')\"\n",
              "            title=\"Suggest charts\"\n",
              "            style=\"display:none;\">\n",
              "\n",
              "<svg xmlns=\"http://www.w3.org/2000/svg\" height=\"24px\"viewBox=\"0 0 24 24\"\n",
              "     width=\"24px\">\n",
              "    <g>\n",
              "        <path d=\"M19 3H5c-1.1 0-2 .9-2 2v14c0 1.1.9 2 2 2h14c1.1 0 2-.9 2-2V5c0-1.1-.9-2-2-2zM9 17H7v-7h2v7zm4 0h-2V7h2v10zm4 0h-2v-4h2v4z\"/>\n",
              "    </g>\n",
              "</svg>\n",
              "  </button>\n",
              "\n",
              "<style>\n",
              "  .colab-df-quickchart {\n",
              "      --bg-color: #E8F0FE;\n",
              "      --fill-color: #1967D2;\n",
              "      --hover-bg-color: #E2EBFA;\n",
              "      --hover-fill-color: #174EA6;\n",
              "      --disabled-fill-color: #AAA;\n",
              "      --disabled-bg-color: #DDD;\n",
              "  }\n",
              "\n",
              "  [theme=dark] .colab-df-quickchart {\n",
              "      --bg-color: #3B4455;\n",
              "      --fill-color: #D2E3FC;\n",
              "      --hover-bg-color: #434B5C;\n",
              "      --hover-fill-color: #FFFFFF;\n",
              "      --disabled-bg-color: #3B4455;\n",
              "      --disabled-fill-color: #666;\n",
              "  }\n",
              "\n",
              "  .colab-df-quickchart {\n",
              "    background-color: var(--bg-color);\n",
              "    border: none;\n",
              "    border-radius: 50%;\n",
              "    cursor: pointer;\n",
              "    display: none;\n",
              "    fill: var(--fill-color);\n",
              "    height: 32px;\n",
              "    padding: 0;\n",
              "    width: 32px;\n",
              "  }\n",
              "\n",
              "  .colab-df-quickchart:hover {\n",
              "    background-color: var(--hover-bg-color);\n",
              "    box-shadow: 0 1px 2px rgba(60, 64, 67, 0.3), 0 1px 3px 1px rgba(60, 64, 67, 0.15);\n",
              "    fill: var(--button-hover-fill-color);\n",
              "  }\n",
              "\n",
              "  .colab-df-quickchart-complete:disabled,\n",
              "  .colab-df-quickchart-complete:disabled:hover {\n",
              "    background-color: var(--disabled-bg-color);\n",
              "    fill: var(--disabled-fill-color);\n",
              "    box-shadow: none;\n",
              "  }\n",
              "\n",
              "  .colab-df-spinner {\n",
              "    border: 2px solid var(--fill-color);\n",
              "    border-color: transparent;\n",
              "    border-bottom-color: var(--fill-color);\n",
              "    animation:\n",
              "      spin 1s steps(1) infinite;\n",
              "  }\n",
              "\n",
              "  @keyframes spin {\n",
              "    0% {\n",
              "      border-color: transparent;\n",
              "      border-bottom-color: var(--fill-color);\n",
              "      border-left-color: var(--fill-color);\n",
              "    }\n",
              "    20% {\n",
              "      border-color: transparent;\n",
              "      border-left-color: var(--fill-color);\n",
              "      border-top-color: var(--fill-color);\n",
              "    }\n",
              "    30% {\n",
              "      border-color: transparent;\n",
              "      border-left-color: var(--fill-color);\n",
              "      border-top-color: var(--fill-color);\n",
              "      border-right-color: var(--fill-color);\n",
              "    }\n",
              "    40% {\n",
              "      border-color: transparent;\n",
              "      border-right-color: var(--fill-color);\n",
              "      border-top-color: var(--fill-color);\n",
              "    }\n",
              "    60% {\n",
              "      border-color: transparent;\n",
              "      border-right-color: var(--fill-color);\n",
              "    }\n",
              "    80% {\n",
              "      border-color: transparent;\n",
              "      border-right-color: var(--fill-color);\n",
              "      border-bottom-color: var(--fill-color);\n",
              "    }\n",
              "    90% {\n",
              "      border-color: transparent;\n",
              "      border-bottom-color: var(--fill-color);\n",
              "    }\n",
              "  }\n",
              "</style>\n",
              "\n",
              "  <script>\n",
              "    async function quickchart(key) {\n",
              "      const quickchartButtonEl =\n",
              "        document.querySelector('#' + key + ' button');\n",
              "      quickchartButtonEl.disabled = true;  // To prevent multiple clicks.\n",
              "      quickchartButtonEl.classList.add('colab-df-spinner');\n",
              "      try {\n",
              "        const charts = await google.colab.kernel.invokeFunction(\n",
              "            'suggestCharts', [key], {});\n",
              "      } catch (error) {\n",
              "        console.error('Error during call to suggestCharts:', error);\n",
              "      }\n",
              "      quickchartButtonEl.classList.remove('colab-df-spinner');\n",
              "      quickchartButtonEl.classList.add('colab-df-quickchart-complete');\n",
              "    }\n",
              "    (() => {\n",
              "      let quickchartButtonEl =\n",
              "        document.querySelector('#df-06434522-3156-45b0-ae47-5374edf0e03c button');\n",
              "      quickchartButtonEl.style.display =\n",
              "        google.colab.kernel.accessAllowed ? 'block' : 'none';\n",
              "    })();\n",
              "  </script>\n",
              "</div>\n",
              "    </div>\n",
              "  </div>\n"
            ],
            "application/vnd.google.colaboratory.intrinsic+json": {
              "type": "dataframe",
              "variable_name": "datas",
              "summary": "{\n  \"name\": \"datas\",\n  \"rows\": 17,\n  \"fields\": [\n    {\n      \"column\": \"ALB\",\n      \"properties\": {\n        \"dtype\": \"number\",\n        \"std\": 5.706916598201127,\n        \"min\": 29.0,\n        \"max\": 49.0,\n        \"num_unique_values\": 13,\n        \"samples\": [\n          36.0,\n          34.0,\n          38.5\n        ],\n        \"semantic_type\": \"\",\n        \"description\": \"\"\n      }\n    },\n    {\n      \"column\": \"ALP\",\n      \"properties\": {\n        \"dtype\": \"number\",\n        \"std\": 30.194768489220895,\n        \"min\": 11.3,\n        \"max\": 137.8,\n        \"num_unique_values\": 16,\n        \"samples\": [\n          52.5,\n          70.3,\n          38.2\n        ],\n        \"semantic_type\": \"\",\n        \"description\": \"\"\n      }\n    },\n    {\n      \"column\": \"ALT\",\n      \"properties\": {\n        \"dtype\": \"number\",\n        \"std\": 16.707379929768972,\n        \"min\": 2.4,\n        \"max\": 63.3,\n        \"num_unique_values\": 16,\n        \"samples\": [\n          7.7,\n          18.0,\n          63.3\n        ],\n        \"semantic_type\": \"\",\n        \"description\": \"\"\n      }\n    },\n    {\n      \"column\": \"AST\",\n      \"properties\": {\n        \"dtype\": \"number\",\n        \"std\": 66.02080665793706,\n        \"min\": 22.1,\n        \"max\": 263.1,\n        \"num_unique_values\": 17,\n        \"samples\": [\n          22.1,\n          24.7,\n          187.7\n        ],\n        \"semantic_type\": \"\",\n        \"description\": \"\"\n      }\n    },\n    {\n      \"column\": \"BIL\",\n      \"properties\": {\n        \"dtype\": \"number\",\n        \"std\": 45.9387939993819,\n        \"min\": 3.9,\n        \"max\": 200.0,\n        \"num_unique_values\": 15,\n        \"samples\": [\n          11.0,\n          9.0,\n          7.5\n        ],\n        \"semantic_type\": \"\",\n        \"description\": \"\"\n      }\n    },\n    {\n      \"column\": \"PROT\",\n      \"properties\": {\n        \"dtype\": \"number\",\n        \"std\": 5.8782500397152,\n        \"min\": 57.5,\n        \"max\": 82.1,\n        \"num_unique_values\": 17,\n        \"samples\": [\n          69.0,\n          76.5,\n          70.5\n        ],\n        \"semantic_type\": \"\",\n        \"description\": \"\"\n      }\n    },\n    {\n      \"column\": \"GGT\",\n      \"properties\": {\n        \"dtype\": \"number\",\n        \"std\": 44.87479477259314,\n        \"min\": 12.1,\n        \"max\": 151.0,\n        \"num_unique_values\": 17,\n        \"samples\": [\n          12.1,\n          15.6,\n          40.2\n        ],\n        \"semantic_type\": \"\",\n        \"description\": \"\"\n      }\n    },\n    {\n      \"column\": \"Diagnosa\",\n      \"properties\": {\n        \"dtype\": \"category\",\n        \"num_unique_values\": 4,\n        \"samples\": [\n          \"Hepatitis\",\n          \"Cirrhosis\",\n          \"Blood Donor\"\n        ],\n        \"semantic_type\": \"\",\n        \"description\": \"\"\n      }\n    }\n  ]\n}"
            }
          },
          "metadata": {},
          "execution_count": 83
        }
      ]
    },
    {
      "cell_type": "code",
      "source": [
        "# Membagi data menjadi ciri (features) dan label\n",
        "def divide_data(datas, name_columns=['ALB','ALP','ALT','AST','BIL','PROT','GGT']):\n",
        "    ciri = datas[name_columns].values.tolist()\n",
        "    label = datas[['Diagnosa']].values.flatten().tolist()\n",
        "    return ciri, label"
      ],
      "metadata": {
        "id": "sC4tarBAJ2wf"
      },
      "execution_count": 84,
      "outputs": []
    },
    {
      "cell_type": "code",
      "source": [
        "# Membuat variabel ciri dan label\n",
        "ciri, label = divide_data(datas)"
      ],
      "metadata": {
        "id": "dtEg2SsaKJ_n"
      },
      "execution_count": 85,
      "outputs": []
    },
    {
      "cell_type": "code",
      "source": [
        "ciri"
      ],
      "metadata": {
        "colab": {
          "base_uri": "https://localhost:8080/"
        },
        "id": "uWpb4kgZJ2mv",
        "outputId": "dd739100-3061-4b5a-aa75-7ff91185ea6f"
      },
      "execution_count": 86,
      "outputs": [
        {
          "output_type": "execute_result",
          "data": {
            "text/plain": [
              "[[38.5, 52.5, 7.7, 22.1, 7.5, 69.0, 12.1],\n",
              " [38.5, 70.3, 18.0, 24.7, 3.9, 76.5, 15.6],\n",
              " [46.9, 74.7, 36.2, 52.6, 6.1, 79.3, 33.2],\n",
              " [43.2, 52.0, 30.6, 22.6, 18.9, 75.7, 33.8],\n",
              " [47.0, 19.1, 38.9, 164.2, 17.0, 70.1, 90.4],\n",
              " [42.0, 38.2, 63.3, 187.7, 14.0, 70.5, 40.2],\n",
              " [45.0, 27.5, 10.5, 37.8, 10.0, 74.5, 35.9],\n",
              " [45.0, 34.6, 44.3, 96.2, 16.0, 82.1, 48.1],\n",
              " [41.0, 34.4, 12.1, 60.9, 6.0, 71.1, 33.1],\n",
              " [41.0, 43.1, 2.4, 83.5, 6.0, 66.5, 130.0],\n",
              " [39.0, 43.1, 23.8, 114.7, 11.0, 81.3, 127.3],\n",
              " [45.0, 26.9, 23.1, 125.0, 17.0, 73.0, 72.2],\n",
              " [49.0, 45.2, 19.3, 69.1, 30.0, 72.3, 28.4],\n",
              " [34.0, 137.8, 4.8, 35.6, 9.0, 57.5, 133.4],\n",
              " [31.0, 85.3, 4.8, 60.2, 200.0, 71.8, 151.0],\n",
              " [36.0, 69.6, 14.9, 263.1, 40.0, 68.6, 61.0],\n",
              " [29.0, 11.3, 7.1, 101.9, 31.0, 70.0, 65.6]]"
            ]
          },
          "metadata": {},
          "execution_count": 86
        }
      ]
    },
    {
      "cell_type": "code",
      "source": [
        "label"
      ],
      "metadata": {
        "colab": {
          "base_uri": "https://localhost:8080/"
        },
        "id": "OPunXpTaJ2aW",
        "outputId": "3f53e330-5b2f-431d-cc52-4874b2b61b63"
      },
      "execution_count": 87,
      "outputs": [
        {
          "output_type": "execute_result",
          "data": {
            "text/plain": [
              "['Blood Donor',\n",
              " 'Blood Donor',\n",
              " 'Blood Donor',\n",
              " 'Blood Donor',\n",
              " 'Hepatitis',\n",
              " 'Hepatitis',\n",
              " 'Hepatitis',\n",
              " 'Hepatitis',\n",
              " 'Hepatitis',\n",
              " 'Fibrosis',\n",
              " 'Fibrosis',\n",
              " 'Fibrosis',\n",
              " 'Fibrosis',\n",
              " 'Cirrhosis',\n",
              " 'Cirrhosis',\n",
              " 'Cirrhosis',\n",
              " 'Cirrhosis']"
            ]
          },
          "metadata": {},
          "execution_count": 87
        }
      ]
    },
    {
      "cell_type": "code",
      "source": [
        "# Fungsi untuk membagi dataset menjadi data latih dan test secara manual\n",
        "def train_test_split(data, labels, test_size=0.1, random_state=0):\n",
        "    combined = list(zip(data, labels))\n",
        "    random.seed(random_state)\n",
        "    random.shuffle(combined)\n",
        "    split_index = len(data) - int(len(data) * test_size)  # Membuat hanya 1 data untuk testing\n",
        "    train = combined[:split_index]\n",
        "    test = combined[split_index:]\n",
        "    X_train, y_train = zip(*train)\n",
        "    X_test, y_test = zip(*test)\n",
        "    return list(X_train), list(X_test), list(y_train), list(y_test)"
      ],
      "metadata": {
        "id": "Ao5LjU1sKGIH"
      },
      "execution_count": 108,
      "outputs": []
    },
    {
      "cell_type": "code",
      "source": [
        "# Memecah data menjadi data training dan data testing\n",
        "Ciri_train, Ciri_test, Label_train, Label_test = train_test_split(ciri, label, test_size=0.1, random_state=0)"
      ],
      "metadata": {
        "id": "HnBv2P8OKf3T"
      },
      "execution_count": 109,
      "outputs": []
    },
    {
      "cell_type": "code",
      "source": [
        "# Menampilkan semua data ciri-ciri pada data training\n",
        "Ciri_train"
      ],
      "metadata": {
        "colab": {
          "base_uri": "https://localhost:8080/"
        },
        "id": "pWYR8VE2KpUo",
        "outputId": "2ba0cb5d-0af7-4b1c-98b0-96e90796af2f"
      },
      "execution_count": 110,
      "outputs": [
        {
          "output_type": "execute_result",
          "data": {
            "text/plain": [
              "[[43.2, 52.0, 30.6, 22.6, 18.9, 75.7, 33.8],\n",
              " [49.0, 45.2, 19.3, 69.1, 30.0, 72.3, 28.4],\n",
              " [45.0, 26.9, 23.1, 125.0, 17.0, 73.0, 72.2],\n",
              " [45.0, 34.6, 44.3, 96.2, 16.0, 82.1, 48.1],\n",
              " [34.0, 137.8, 4.8, 35.6, 9.0, 57.5, 133.4],\n",
              " [47.0, 19.1, 38.9, 164.2, 17.0, 70.1, 90.4],\n",
              " [42.0, 38.2, 63.3, 187.7, 14.0, 70.5, 40.2],\n",
              " [41.0, 43.1, 2.4, 83.5, 6.0, 66.5, 130.0],\n",
              " [39.0, 43.1, 23.8, 114.7, 11.0, 81.3, 127.3],\n",
              " [45.0, 27.5, 10.5, 37.8, 10.0, 74.5, 35.9],\n",
              " [46.9, 74.7, 36.2, 52.6, 6.1, 79.3, 33.2],\n",
              " [29.0, 11.3, 7.1, 101.9, 31.0, 70.0, 65.6],\n",
              " [31.0, 85.3, 4.8, 60.2, 200.0, 71.8, 151.0],\n",
              " [41.0, 34.4, 12.1, 60.9, 6.0, 71.1, 33.1]]"
            ]
          },
          "metadata": {},
          "execution_count": 110
        }
      ]
    },
    {
      "cell_type": "code",
      "source": [
        "# Menampilkan semua data ciri-ciri pada data testing\n",
        "Ciri_test, Label_test"
      ],
      "metadata": {
        "colab": {
          "base_uri": "https://localhost:8080/"
        },
        "id": "7gIKL0KCKsj2",
        "outputId": "bc5de441-7ed1-4b08-827c-4a48e4708d5f"
      },
      "execution_count": 114,
      "outputs": [
        {
          "output_type": "execute_result",
          "data": {
            "text/plain": [
              "([[36.0, 69.6, 14.9, 263.1, 40.0, 68.6, 61.0]], ['Cirrhosis'])"
            ]
          },
          "metadata": {},
          "execution_count": 114
        }
      ]
    },
    {
      "cell_type": "code",
      "source": [
        "# Klasifikasi menggunakan KNN secara manual\n",
        "def euclidean_distance(point1, point2):\n",
        "    return sum((x - y) ** 2 for x, y in zip(point1, point2)) ** 0.5\n",
        "\n",
        "def knn_predict(test_point, training_data, training_labels, k=1):\n",
        "    distances = [(euclidean_distance(test_point, train_point), label) for train_point, label in zip(training_data, training_labels)]\n",
        "    distances.sort(key=lambda x: x[0])\n",
        "    neighbors = distances[:k]\n",
        "    neighbor_labels = [label for _, label in neighbors]\n",
        "    return max(set(neighbor_labels), key=neighbor_labels.count)"
      ],
      "metadata": {
        "id": "0iPJN7SWKtYL"
      },
      "execution_count": 111,
      "outputs": []
    },
    {
      "cell_type": "code",
      "source": [
        "# Melakukan prediksi untuk data testing\n",
        "Label_pred = [knn_predict(test_point, Ciri_train, Label_train, k=1) for test_point in Ciri_test]"
      ],
      "metadata": {
        "id": "lbUa1xUaLEzw"
      },
      "execution_count": 112,
      "outputs": []
    },
    {
      "cell_type": "code",
      "source": [
        "# Menampilkan hasil prediksi\n",
        "Label_pred"
      ],
      "metadata": {
        "colab": {
          "base_uri": "https://localhost:8080/"
        },
        "id": "TDZzzoqmLI3P",
        "outputId": "c64dbd22-e79d-44d2-a402-01f7c914f299"
      },
      "execution_count": 113,
      "outputs": [
        {
          "output_type": "execute_result",
          "data": {
            "text/plain": [
              "['Hepatitis']"
            ]
          },
          "metadata": {},
          "execution_count": 113
        }
      ]
    },
    {
      "cell_type": "code",
      "source": [
        "# Mengukur kinerja model secara manual\n",
        "def confusion_matrix(actual, predicted):\n",
        "    unique_labels = set(actual + predicted)\n",
        "    matrix = {label: {label: 0 for label in unique_labels} for label in unique_labels}\n",
        "    for a, p in zip(actual, predicted):\n",
        "        matrix[a][p] += 1\n",
        "    return matrix"
      ],
      "metadata": {
        "id": "5tH1WG6xLLh_"
      },
      "execution_count": 56,
      "outputs": []
    },
    {
      "cell_type": "code",
      "source": [
        "cm = confusion_matrix(Label_test, Label_pred)"
      ],
      "metadata": {
        "id": "gXymNqa7LRzy"
      },
      "execution_count": 115,
      "outputs": []
    },
    {
      "cell_type": "code",
      "source": [
        "cm"
      ],
      "metadata": {
        "colab": {
          "base_uri": "https://localhost:8080/"
        },
        "id": "9TTJ9hEMLUk7",
        "outputId": "d4b71be1-e1cf-4b06-be79-9f8f8a6f59ba"
      },
      "execution_count": 116,
      "outputs": [
        {
          "output_type": "execute_result",
          "data": {
            "text/plain": [
              "{'Hepatitis': {'Hepatitis': 0, 'Cirrhosis': 0},\n",
              " 'Cirrhosis': {'Hepatitis': 1, 'Cirrhosis': 0}}"
            ]
          },
          "metadata": {},
          "execution_count": 116
        }
      ]
    },
    {
      "cell_type": "code",
      "source": [
        "def accuracy_score(actual, predicted):\n",
        "    correct = sum(a == p for a, p in zip(actual, predicted))\n",
        "    return correct / len(actual)"
      ],
      "metadata": {
        "id": "Py1qdsvYLOGO"
      },
      "execution_count": 117,
      "outputs": []
    },
    {
      "cell_type": "code",
      "source": [
        "ac = accuracy_score(Label_test, Label_pred)"
      ],
      "metadata": {
        "id": "1xCUU2e0LVeu"
      },
      "execution_count": 118,
      "outputs": []
    },
    {
      "cell_type": "code",
      "source": [
        "ac"
      ],
      "metadata": {
        "colab": {
          "base_uri": "https://localhost:8080/"
        },
        "id": "MU2lXkrALdvh",
        "outputId": "59591a85-6487-45e5-affc-40a6465818de"
      },
      "execution_count": 119,
      "outputs": [
        {
          "output_type": "execute_result",
          "data": {
            "text/plain": [
              "0.0"
            ]
          },
          "metadata": {},
          "execution_count": 119
        }
      ]
    }
  ]
}