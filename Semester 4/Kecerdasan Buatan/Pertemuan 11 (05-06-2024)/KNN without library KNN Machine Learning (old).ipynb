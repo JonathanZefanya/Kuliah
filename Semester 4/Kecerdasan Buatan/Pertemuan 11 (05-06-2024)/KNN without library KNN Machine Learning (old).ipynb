{
  "cells": [
    {
      "cell_type": "markdown",
      "metadata": {
        "id": "BNxQ3saVtYz1"
      },
      "source": [
        "IF-B Kecerdasan Buatan <br>\n",
        "KELOMPOK 2: <br>\n",
        "JONATHAN NATANNAEL ZEFANYA <br>\n",
        "DAFFA DANINDRA <br>\n",
        "IKHWAN EL FARIS <br>\n",
        "DETHALISA AULIA KIRANA"
      ]
    },
    {
      "cell_type": "code",
      "execution_count": 1,
      "metadata": {
        "colab": {
          "base_uri": "https://localhost:8080/",
          "height": 73
        },
        "id": "fdSOxnZkkDEL",
        "outputId": "6901311b-4658-4bc0-f179-cc517841eea9"
      },
      "outputs": [
        {
          "data": {
            "text/html": [
              "\n",
              "     <input type=\"file\" id=\"files-3a0c346a-f2ed-4188-a870-0b7325330843\" name=\"files[]\" multiple disabled\n",
              "        style=\"border:none\" />\n",
              "     <output id=\"result-3a0c346a-f2ed-4188-a870-0b7325330843\">\n",
              "      Upload widget is only available when the cell has been executed in the\n",
              "      current browser session. Please rerun this cell to enable.\n",
              "      </output>\n",
              "      <script>// Copyright 2017 Google LLC\n",
              "//\n",
              "// Licensed under the Apache License, Version 2.0 (the \"License\");\n",
              "// you may not use this file except in compliance with the License.\n",
              "// You may obtain a copy of the License at\n",
              "//\n",
              "//      http://www.apache.org/licenses/LICENSE-2.0\n",
              "//\n",
              "// Unless required by applicable law or agreed to in writing, software\n",
              "// distributed under the License is distributed on an \"AS IS\" BASIS,\n",
              "// WITHOUT WARRANTIES OR CONDITIONS OF ANY KIND, either express or implied.\n",
              "// See the License for the specific language governing permissions and\n",
              "// limitations under the License.\n",
              "\n",
              "/**\n",
              " * @fileoverview Helpers for google.colab Python module.\n",
              " */\n",
              "(function(scope) {\n",
              "function span(text, styleAttributes = {}) {\n",
              "  const element = document.createElement('span');\n",
              "  element.textContent = text;\n",
              "  for (const key of Object.keys(styleAttributes)) {\n",
              "    element.style[key] = styleAttributes[key];\n",
              "  }\n",
              "  return element;\n",
              "}\n",
              "\n",
              "// Max number of bytes which will be uploaded at a time.\n",
              "const MAX_PAYLOAD_SIZE = 100 * 1024;\n",
              "\n",
              "function _uploadFiles(inputId, outputId) {\n",
              "  const steps = uploadFilesStep(inputId, outputId);\n",
              "  const outputElement = document.getElementById(outputId);\n",
              "  // Cache steps on the outputElement to make it available for the next call\n",
              "  // to uploadFilesContinue from Python.\n",
              "  outputElement.steps = steps;\n",
              "\n",
              "  return _uploadFilesContinue(outputId);\n",
              "}\n",
              "\n",
              "// This is roughly an async generator (not supported in the browser yet),\n",
              "// where there are multiple asynchronous steps and the Python side is going\n",
              "// to poll for completion of each step.\n",
              "// This uses a Promise to block the python side on completion of each step,\n",
              "// then passes the result of the previous step as the input to the next step.\n",
              "function _uploadFilesContinue(outputId) {\n",
              "  const outputElement = document.getElementById(outputId);\n",
              "  const steps = outputElement.steps;\n",
              "\n",
              "  const next = steps.next(outputElement.lastPromiseValue);\n",
              "  return Promise.resolve(next.value.promise).then((value) => {\n",
              "    // Cache the last promise value to make it available to the next\n",
              "    // step of the generator.\n",
              "    outputElement.lastPromiseValue = value;\n",
              "    return next.value.response;\n",
              "  });\n",
              "}\n",
              "\n",
              "/**\n",
              " * Generator function which is called between each async step of the upload\n",
              " * process.\n",
              " * @param {string} inputId Element ID of the input file picker element.\n",
              " * @param {string} outputId Element ID of the output display.\n",
              " * @return {!Iterable<!Object>} Iterable of next steps.\n",
              " */\n",
              "function* uploadFilesStep(inputId, outputId) {\n",
              "  const inputElement = document.getElementById(inputId);\n",
              "  inputElement.disabled = false;\n",
              "\n",
              "  const outputElement = document.getElementById(outputId);\n",
              "  outputElement.innerHTML = '';\n",
              "\n",
              "  const pickedPromise = new Promise((resolve) => {\n",
              "    inputElement.addEventListener('change', (e) => {\n",
              "      resolve(e.target.files);\n",
              "    });\n",
              "  });\n",
              "\n",
              "  const cancel = document.createElement('button');\n",
              "  inputElement.parentElement.appendChild(cancel);\n",
              "  cancel.textContent = 'Cancel upload';\n",
              "  const cancelPromise = new Promise((resolve) => {\n",
              "    cancel.onclick = () => {\n",
              "      resolve(null);\n",
              "    };\n",
              "  });\n",
              "\n",
              "  // Wait for the user to pick the files.\n",
              "  const files = yield {\n",
              "    promise: Promise.race([pickedPromise, cancelPromise]),\n",
              "    response: {\n",
              "      action: 'starting',\n",
              "    }\n",
              "  };\n",
              "\n",
              "  cancel.remove();\n",
              "\n",
              "  // Disable the input element since further picks are not allowed.\n",
              "  inputElement.disabled = true;\n",
              "\n",
              "  if (!files) {\n",
              "    return {\n",
              "      response: {\n",
              "        action: 'complete',\n",
              "      }\n",
              "    };\n",
              "  }\n",
              "\n",
              "  for (const file of files) {\n",
              "    const li = document.createElement('li');\n",
              "    li.append(span(file.name, {fontWeight: 'bold'}));\n",
              "    li.append(span(\n",
              "        `(${file.type || 'n/a'}) - ${file.size} bytes, ` +\n",
              "        `last modified: ${\n",
              "            file.lastModifiedDate ? file.lastModifiedDate.toLocaleDateString() :\n",
              "                                    'n/a'} - `));\n",
              "    const percent = span('0% done');\n",
              "    li.appendChild(percent);\n",
              "\n",
              "    outputElement.appendChild(li);\n",
              "\n",
              "    const fileDataPromise = new Promise((resolve) => {\n",
              "      const reader = new FileReader();\n",
              "      reader.onload = (e) => {\n",
              "        resolve(e.target.result);\n",
              "      };\n",
              "      reader.readAsArrayBuffer(file);\n",
              "    });\n",
              "    // Wait for the data to be ready.\n",
              "    let fileData = yield {\n",
              "      promise: fileDataPromise,\n",
              "      response: {\n",
              "        action: 'continue',\n",
              "      }\n",
              "    };\n",
              "\n",
              "    // Use a chunked sending to avoid message size limits. See b/62115660.\n",
              "    let position = 0;\n",
              "    do {\n",
              "      const length = Math.min(fileData.byteLength - position, MAX_PAYLOAD_SIZE);\n",
              "      const chunk = new Uint8Array(fileData, position, length);\n",
              "      position += length;\n",
              "\n",
              "      const base64 = btoa(String.fromCharCode.apply(null, chunk));\n",
              "      yield {\n",
              "        response: {\n",
              "          action: 'append',\n",
              "          file: file.name,\n",
              "          data: base64,\n",
              "        },\n",
              "      };\n",
              "\n",
              "      let percentDone = fileData.byteLength === 0 ?\n",
              "          100 :\n",
              "          Math.round((position / fileData.byteLength) * 100);\n",
              "      percent.textContent = `${percentDone}% done`;\n",
              "\n",
              "    } while (position < fileData.byteLength);\n",
              "  }\n",
              "\n",
              "  // All done.\n",
              "  yield {\n",
              "    response: {\n",
              "      action: 'complete',\n",
              "    }\n",
              "  };\n",
              "}\n",
              "\n",
              "scope.google = scope.google || {};\n",
              "scope.google.colab = scope.google.colab || {};\n",
              "scope.google.colab._files = {\n",
              "  _uploadFiles,\n",
              "  _uploadFilesContinue,\n",
              "};\n",
              "})(self);\n",
              "</script> "
            ],
            "text/plain": [
              "<IPython.core.display.HTML object>"
            ]
          },
          "metadata": {},
          "output_type": "display_data"
        },
        {
          "name": "stdout",
          "output_type": "stream",
          "text": [
            "Saving csv_KNN_Liver_CSU_1.csv to csv_KNN_Liver_CSU_1.csv\n"
          ]
        }
      ],
      "source": [
        "# Mengimpor pustaka yang diperlukan\n",
        "import csv\n",
        "import numpy as np\n",
        "from collections import Counter\n",
        "from sklearn.model_selection import train_test_split\n",
        "from sklearn.metrics import accuracy_score, confusion_matrix\n",
        "import pandas as pd\n",
        "import seaborn as sns\n",
        "import matplotlib.pyplot as plt\n",
        "# Mengimpor modul files dari google.colab untuk memungkinkan pengunggahan file\n",
        "from google.colab import files\n",
        "uploaded = files.upload()  # Upload CSV file"
      ]
    },
    {
      "cell_type": "code",
      "execution_count": 2,
      "metadata": {
        "id": "tNZ97w0XkWA7"
      },
      "outputs": [],
      "source": [
        "# Step 1: mengakses data\n",
        "def load_data(file):\n",
        "    data = []\n",
        "    csv_reader = csv.reader(file)\n",
        "    header = next(csv_reader)  # Skip the header ('ALB','ALP','ALT','AST','BIL','PROT','GGT')\n",
        "    for row in csv_reader:\n",
        "        data.append(row)\n",
        "    return header, data"
      ]
    },
    {
      "cell_type": "code",
      "execution_count": 3,
      "metadata": {
        "id": "zDrOoUBSlGwm"
      },
      "outputs": [],
      "source": [
        "# Step 2: melakukan preprocessing data (mengubah ke numerik dan menangani nilai yang hilang jika diperlukan)\n",
        "def preprocess_data(data):\n",
        "    # Convert semua data ke float, kecuali kolom terakhir (Label)\n",
        "    for i in range(len(data)):\n",
        "        data[i] = [float(x) if j < len(data[i])-1 else x for j, x in enumerate(data[i])]\n",
        "    return data"
      ]
    },
    {
      "cell_type": "code",
      "execution_count": 4,
      "metadata": {
        "id": "bxV9XlWxkV0b"
      },
      "outputs": [],
      "source": [
        "# Load dan preprocess data\n",
        "filename = list(uploaded.keys())[0]\n",
        "with open(filename, 'r') as file:\n",
        "  header, data = load_data(file)  # Load the data\n",
        "\n",
        "data = preprocess_data(data)"
      ]
    },
    {
      "cell_type": "code",
      "execution_count": 6,
      "metadata": {
        "colab": {
          "base_uri": "https://localhost:8080/"
        },
        "id": "Y0SJfRwmlTwn",
        "outputId": "0dfe8b31-4e46-4af2-a139-59547ff21766"
      },
      "outputs": [
        {
          "name": "stdout",
          "output_type": "stream",
          "text": [
            "Overall Data:\n",
            "[38.5, 52.5, 7.7, 22.1, 7.5, 69.0, 12.1, 'Blood Donor']\n",
            "[38.5, 70.3, 18.0, 24.7, 3.9, 76.5, 15.6, 'Blood Donor']\n",
            "[46.9, 74.7, 36.2, 52.6, 6.1, 79.3, 33.2, 'Blood Donor']\n",
            "[43.2, 52.0, 30.6, 22.6, 18.9, 75.7, 33.8, 'Blood Donor']\n",
            "[47.0, 19.1, 38.9, 164.2, 17.0, 70.1, 90.4, 'Hepatitis']\n",
            "[42.0, 38.2, 63.3, 187.7, 14.0, 70.5, 40.2, 'Hepatitis']\n",
            "[45.0, 27.5, 10.5, 37.8, 10.0, 74.5, 35.9, 'Hepatitis']\n",
            "[45.0, 34.6, 44.3, 96.2, 16.0, 82.1, 48.1, 'Hepatitis']\n",
            "[41.0, 34.4, 12.1, 60.9, 6.0, 71.1, 33.1, 'Hepatitis']\n",
            "[41.0, 43.1, 2.4, 83.5, 6.0, 66.5, 130.0, 'Fibrosis']\n",
            "[39.0, 43.1, 23.8, 114.7, 11.0, 81.3, 127.3, 'Fibrosis']\n",
            "[45.0, 26.9, 23.1, 125.0, 17.0, 73.0, 72.2, 'Fibrosis']\n",
            "[49.0, 45.2, 19.3, 69.1, 30.0, 72.3, 28.4, 'Fibrosis']\n",
            "[34.0, 137.8, 4.8, 35.6, 9.0, 57.5, 133.4, 'Cirrhosis']\n",
            "[31.0, 85.3, 4.8, 60.2, 200.0, 71.8, 151.0, 'Cirrhosis']\n",
            "[36.0, 69.6, 14.9, 263.1, 40.0, 68.6, 61.0, 'Cirrhosis']\n",
            "[29.0, 11.3, 7.1, 101.9, 31.0, 70.0, 65.6, 'Cirrhosis']\n"
          ]
        }
      ],
      "source": [
        "# Cetak semua data\n",
        "print('Overall Data:')\n",
        "for row in data:\n",
        "    print(row)"
      ]
    },
    {
      "cell_type": "code",
      "execution_count": 7,
      "metadata": {
        "id": "Pq9LC2Ielnr6"
      },
      "outputs": [],
      "source": [
        "# Step 3: memisahkan data menjadi data (X) dan label (y)\n",
        "def split_features_labels(data):\n",
        "    X = [row[:-1] for row in data]\n",
        "    y = [row[-1] for row in data]\n",
        "    return X, y"
      ]
    },
    {
      "cell_type": "code",
      "execution_count": 17,
      "metadata": {
        "colab": {
          "base_uri": "https://localhost:8080/"
        },
        "id": "FHkOBPXIlh-p",
        "outputId": "551b6326-80be-4464-d35f-b49beaf0c9d1"
      },
      "outputs": [
        {
          "name": "stdout",
          "output_type": "stream",
          "text": [
            "Label testing: \n",
            "['Blood Donor', 'Blood Donor', 'Hepatitis', 'Cirrhosis', 'Fibrosis']\n",
            "Data testing: \n",
            "[[38.5, 52.5, 7.7, 22.1, 7.5, 69.0, 12.1], [38.5, 70.3, 18.0, 24.7, 3.9, 76.5, 15.6], [42.0, 38.2, 63.3, 187.7, 14.0, 70.5, 40.2], [36.0, 69.6, 14.9, 263.1, 40.0, 68.6, 61.0], [45.0, 26.9, 23.1, 125.0, 17.0, 73.0, 72.2]]\n"
          ]
        }
      ],
      "source": [
        " # Memisahkan menjadi data (X) dan label (y)\n",
        "X, y = split_features_labels(data)\n",
        "\n",
        "# Membagi data training dan data testing\n",
        "X_train, X_test, y_train, y_test = train_test_split(X, y, test_size=0.25, random_state=42)\n",
        "print(\"Label testing: \")\n",
        "print(y_test)\n",
        "print(\"Data testing: \")\n",
        "print(X_test)"
      ]
    },
    {
      "cell_type": "code",
      "execution_count": 18,
      "metadata": {
        "id": "YrOTj7L2l1z1"
      },
      "outputs": [],
      "source": [
        "# Step 4: menghitung jarak Euclidean\n",
        "def euclidean_distance(point1, point2):\n",
        "    # |jarak data testing - jarak data latih|\n",
        "    distance = np.sqrt(np.sum((np.array(point1) - np.array(point2))**2))\n",
        "    return distance"
      ]
    },
    {
      "cell_type": "code",
      "execution_count": 19,
      "metadata": {
        "id": "ofl_H5bjmALu"
      },
      "outputs": [],
      "source": [
        "# Step 5: mengimplementasikan algoritma KNN\n",
        "def knn_predict(X_train, y_train, X_test, k):\n",
        "    predictions = []\n",
        "    distances_list = []\n",
        "    for test_point in X_test:\n",
        "        # Menghitung jarak dari test_point ke semua titik pelatihan\n",
        "        distances = [(euclidean_distance(test_point, train_point), label) for train_point, label in zip(X_train, y_train)]\n",
        "        distances_list.append(sorted(distances, key=lambda x: x[0]))  # Simpan jarak untuk output dan urutkan dari jarak terdekat ke terjauh\n",
        "        # Mengurutkan berdasarkan jarak dan mendapatkan k label terdekat\n",
        "        k_nearest_labels = [label for _, label in sorted(distances)[:k]]\n",
        "        # Mendapatkan label yang paling umum (pemungutan suara mayoritas)\n",
        "        most_common_label = Counter(k_nearest_labels).most_common(1)[0][0]\n",
        "        predictions.append(most_common_label)\n",
        "    return predictions, distances_list"
      ]
    },
    {
      "cell_type": "code",
      "execution_count": 20,
      "metadata": {
        "colab": {
          "base_uri": "https://localhost:8080/"
        },
        "id": "Xp6x4N2Slycc",
        "outputId": "56f65292-0a5d-40b3-f792-7581d1487987"
      },
      "outputs": [
        {
          "name": "stdout",
          "output_type": "stream",
          "text": [
            "Jarak data training dan data testing:\n",
            "Data Testing ke-1:\n",
            "Jarak: 34.54, Label: Blood Donor\n",
            "Jarak: 39.05, Label: Hepatitis\n",
            "Jarak: 48.02, Label: Hepatitis\n",
            "Jarak: 53.47, Label: Blood Donor\n",
            "Jarak: 57.36, Label: Fibrosis\n",
            "Jarak: 93.45, Label: Hepatitis\n",
            "Jarak: 107.57, Label: Cirrhosis\n",
            "Jarak: 133.42, Label: Fibrosis\n",
            "Jarak: 149.45, Label: Cirrhosis\n",
            "Jarak: 149.52, Label: Fibrosis\n",
            "Jarak: 169.04, Label: Hepatitis\n",
            "Jarak: 242.79, Label: Cirrhosis\n",
            "Data Testing ke-2:\n",
            "Jarak: 32.82, Label: Blood Donor\n",
            "Jarak: 39.01, Label: Blood Donor\n",
            "Jarak: 50.55, Label: Hepatitis\n",
            "Jarak: 54.59, Label: Hepatitis\n",
            "Jarak: 59.80, Label: Fibrosis\n",
            "Jarak: 91.40, Label: Hepatitis\n",
            "Jarak: 113.70, Label: Cirrhosis\n",
            "Jarak: 132.81, Label: Fibrosis\n",
            "Jarak: 138.32, Label: Cirrhosis\n",
            "Jarak: 146.37, Label: Fibrosis\n",
            "Jarak: 168.52, Label: Hepatitis\n",
            "Jarak: 241.92, Label: Cirrhosis\n",
            "Data Testing ke-3:\n",
            "Jarak: 63.77, Label: Hepatitis\n",
            "Jarak: 94.64, Label: Hepatitis\n",
            "Jarak: 111.12, Label: Cirrhosis\n",
            "Jarak: 120.97, Label: Fibrosis\n",
            "Jarak: 128.45, Label: Fibrosis\n",
            "Jarak: 137.22, Label: Hepatitis\n",
            "Jarak: 143.29, Label: Blood Donor\n",
            "Jarak: 150.78, Label: Fibrosis\n",
            "Jarak: 159.47, Label: Hepatitis\n",
            "Jarak: 169.15, Label: Blood Donor\n",
            "Jarak: 213.12, Label: Cirrhosis\n",
            "Jarak: 262.47, Label: Cirrhosis\n",
            "Data Testing ke-4:\n",
            "Jarak: 120.10, Label: Hepatitis\n",
            "Jarak: 167.96, Label: Fibrosis\n",
            "Jarak: 172.04, Label: Cirrhosis\n",
            "Jarak: 175.93, Label: Hepatitis\n",
            "Jarak: 197.64, Label: Fibrosis\n",
            "Jarak: 198.99, Label: Fibrosis\n",
            "Jarak: 209.99, Label: Hepatitis\n",
            "Jarak: 216.67, Label: Blood Donor\n",
            "Jarak: 232.80, Label: Hepatitis\n",
            "Jarak: 244.30, Label: Blood Donor\n",
            "Jarak: 250.68, Label: Cirrhosis\n",
            "Jarak: 274.32, Label: Cirrhosis\n",
            "Data Testing ke-5:\n",
            "Jarak: 39.21, Label: Cirrhosis\n",
            "Jarak: 44.75, Label: Hepatitis\n",
            "Jarak: 46.81, Label: Hepatitis\n",
            "Jarak: 59.55, Label: Fibrosis\n",
            "Jarak: 74.69, Label: Fibrosis\n",
            "Jarak: 77.03, Label: Fibrosis\n",
            "Jarak: 77.17, Label: Hepatitis\n",
            "Jarak: 95.56, Label: Hepatitis\n",
            "Jarak: 96.86, Label: Blood Donor\n",
            "Jarak: 112.52, Label: Blood Donor\n",
            "Jarak: 157.47, Label: Cirrhosis\n",
            "Jarak: 218.72, Label: Cirrhosis\n"
          ]
        }
      ],
      "source": [
        " # Menetapkan nilai k\n",
        "k = 3  # isi K bebas untuk kNN (k dari tetangga terdekat)\n",
        "\n",
        "# Membuat Label Prediksi\n",
        "y_pred, distances_list = knn_predict(X_train, y_train, X_test, k)\n",
        "\n",
        "# Menampilkan jarak antara data pelatihan dan pengujian\n",
        "print('Jarak data training dan data testing:')\n",
        "for i, distances in enumerate(distances_list):\n",
        "    print(f'Data Testing ke-{i+1}:')\n",
        "    for distance, label in distances:\n",
        "        print(f'Jarak: {distance:.2f}, Label: {label}')"
      ]
    },
    {
      "cell_type": "code",
      "execution_count": 21,
      "metadata": {
        "colab": {
          "base_uri": "https://localhost:8080/"
        },
        "id": "DeGsbt_-mDXX",
        "outputId": "ef3b907d-d37b-4e50-dfa4-9aecff9d9456"
      },
      "outputs": [
        {
          "name": "stdout",
          "output_type": "stream",
          "text": [
            "Accuracy: 40.00%\n"
          ]
        }
      ],
      "source": [
        "# Accuracy Score\n",
        "accuracy = accuracy_score(y_test, y_pred)\n",
        "print(f'Accuracy: {accuracy * 100:.2f}%')"
      ]
    },
    {
      "cell_type": "code",
      "execution_count": 22,
      "metadata": {
        "colab": {
          "base_uri": "https://localhost:8080/"
        },
        "id": "Fqgyp-mnmEnf",
        "outputId": "63e23ea4-12f4-4dc1-c116-f7f6bdac41e5"
      },
      "outputs": [
        {
          "name": "stdout",
          "output_type": "stream",
          "text": [
            "Confusion Matrix:\n",
            "[[1 0 0 1]\n",
            " [0 0 0 1]\n",
            " [0 0 0 1]\n",
            " [0 0 0 1]]\n"
          ]
        }
      ],
      "source": [
        "# Confusion Matrix\n",
        "cm = confusion_matrix(y_test, y_pred)\n",
        "print('Confusion Matrix:')\n",
        "print(cm)"
      ]
    }
  ],
  "metadata": {
    "colab": {
      "provenance": []
    },
    "kernelspec": {
      "display_name": "Python 3",
      "name": "python3"
    },
    "language_info": {
      "name": "python"
    }
  },
  "nbformat": 4,
  "nbformat_minor": 0
}
